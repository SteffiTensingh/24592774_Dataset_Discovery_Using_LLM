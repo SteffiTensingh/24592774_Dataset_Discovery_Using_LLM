{
 "cells": [
  {
   "cell_type": "code",
   "execution_count": 31,
   "metadata": {},
   "outputs": [],
   "source": [
    "from transformers import BertForSequenceClassification, BertTokenizer, AdamW\n",
    "from torch.utils.data import DataLoader, TensorDataset\n",
    "import torch\n",
    "import numpy as np\n",
    "from sklearn.metrics.pairwise import cosine_similarity\n",
    "import pandas as pd\n",
    "from sklearn.model_selection import train_test_split\n",
    "from sklearn.metrics import accuracy_score"
   ]
  },
  {
   "cell_type": "code",
   "execution_count": 32,
   "metadata": {},
   "outputs": [
    {
     "name": "stderr",
     "output_type": "stream",
     "text": [
      "Some weights of BertForSequenceClassification were not initialized from the model checkpoint at bert-base-uncased and are newly initialized: ['classifier.bias', 'classifier.weight']\n",
      "You should probably TRAIN this model on a down-stream task to be able to use it for predictions and inference.\n"
     ]
    }
   ],
   "source": [
    "# Load pre-trained BERT model and tokenizer for classification\n",
    "tokenizer_cls = BertTokenizer.from_pretrained('bert-base-uncased')\n",
    "model_cls = BertForSequenceClassification.from_pretrained('bert-base-uncased', num_labels=2)"
   ]
  },
  {
   "cell_type": "code",
   "execution_count": 33,
   "metadata": {},
   "outputs": [],
   "source": [
    "from transformers import BertTokenizer, BertModel\n",
    "# Load pre-trained BERT model and tokenizer for similarity\n",
    "tokenizer_sim = BertTokenizer.from_pretrained('bert-base-uncased')\n",
    "model_sim = BertModel.from_pretrained('bert-base-uncased')\n"
   ]
  },
  {
   "cell_type": "code",
   "execution_count": 35,
   "metadata": {},
   "outputs": [],
   "source": [
    "Labeled_Metadata =  pd.read_csv('C:\\\\Users\\\\Steffi Grace\\\\24592774_LLM_ILabResearch\\\\Notebooks\\\\Datasets\\\\Labeled_Metadata.csv')"
   ]
  },
  {
   "cell_type": "code",
   "execution_count": 36,
   "metadata": {},
   "outputs": [],
   "source": [
    "# Preprocess text data\n",
    "def preprocess_text(text):\n",
    "    if isinstance(text, str):\n",
    "        text = text.lower()\n",
    "        return text\n",
    "    else:\n",
    "        return \"\"\n",
    "\n",
    "for column in ['query', 'title', 'description', 'summary']:\n",
    "    Labeled_Metadata[column] = Labeled_Metadata[column].apply(preprocess_text)"
   ]
  },
  {
   "cell_type": "code",
   "execution_count": 37,
   "metadata": {},
   "outputs": [],
   "source": [
    "Labeled_Metadata.reset_index(drop=True, inplace=True)\n"
   ]
  },
  {
   "cell_type": "code",
   "execution_count": 38,
   "metadata": {},
   "outputs": [],
   "source": [
    "# Split data for classification\n",
    "X_cls = Labeled_Metadata['query'] + ' ' + Labeled_Metadata['title'] \n",
    "y_cls = Labeled_Metadata['label']\n",
    "X_train_cls, X_test_cls, y_train_cls, y_test_cls = train_test_split(X_cls, y_cls, test_size=0.2, random_state=42)\n"
   ]
  },
  {
   "cell_type": "code",
   "execution_count": 39,
   "metadata": {},
   "outputs": [],
   "source": [
    "# Tokenize text data for classification\n",
    "X_train_tokens_cls = tokenizer_cls(list(X_train_cls), padding=True, truncation=True, return_tensors='pt')\n",
    "X_test_tokens_cls = tokenizer_cls(list(X_test_cls), padding=True, truncation=True, return_tensors='pt')"
   ]
  },
  {
   "cell_type": "code",
   "execution_count": 40,
   "metadata": {},
   "outputs": [],
   "source": [
    "# Convert labels to tensors\n",
    "y_train_cls_tensor = torch.tensor(y_train_cls.values)\n",
    "y_test_cls_tensor = torch.tensor(y_test_cls.values)"
   ]
  },
  {
   "cell_type": "code",
   "execution_count": 41,
   "metadata": {},
   "outputs": [],
   "source": [
    "# Create Tensor datasets\n",
    "train_dataset_cls = TensorDataset(X_train_tokens_cls.input_ids, X_train_tokens_cls.attention_mask, y_train_cls_tensor)\n",
    "test_dataset_cls = TensorDataset(X_test_tokens_cls.input_ids, X_test_tokens_cls.attention_mask, y_test_cls_tensor)"
   ]
  },
  {
   "cell_type": "code",
   "execution_count": 42,
   "metadata": {},
   "outputs": [
    {
     "name": "stdout",
     "output_type": "stream",
     "text": [
      "<torch.utils.data.dataset.TensorDataset object at 0x00000263E1659930>\n",
      "<torch.utils.data.dataset.TensorDataset object at 0x0000026429AF4E50>\n"
     ]
    }
   ],
   "source": [
    "\n",
    "print(train_dataset_cls)\n",
    "print(test_dataset_cls)"
   ]
  },
  {
   "cell_type": "code",
   "execution_count": 43,
   "metadata": {},
   "outputs": [],
   "source": [
    "# Create DataLoader\n",
    "batch_size = 8\n",
    "train_loader_cls = DataLoader(train_dataset_cls, batch_size=batch_size, shuffle=True)\n",
    "test_loader_cls = DataLoader(test_dataset_cls, batch_size=batch_size)"
   ]
  },
  {
   "cell_type": "code",
   "execution_count": 44,
   "metadata": {},
   "outputs": [
    {
     "name": "stderr",
     "output_type": "stream",
     "text": [
      "C:\\Users\\Steffi Grace\\AppData\\Local\\Packages\\PythonSoftwareFoundation.Python.3.10_qbz5n2kfra8p0\\LocalCache\\local-packages\\Python310\\site-packages\\transformers\\optimization.py:457: FutureWarning: This implementation of AdamW is deprecated and will be removed in a future version. Use the PyTorch implementation torch.optim.AdamW instead, or set `no_deprecation_warning=True` to disable this warning\n",
      "  warnings.warn(\n"
     ]
    }
   ],
   "source": [
    "# Define optimizer and loss function\n",
    "learning_rate = 2e-5  \n",
    "optimizer_cls = AdamW(model_cls.parameters(), lr=learning_rate)\n",
    "criterion_cls = torch.nn.CrossEntropyLoss()"
   ]
  },
  {
   "cell_type": "code",
   "execution_count": 45,
   "metadata": {},
   "outputs": [
    {
     "name": "stdout",
     "output_type": "stream",
     "text": [
      "Epoch 1/3\n",
      "Step 10/128, Loss: 0.3725121021270752\n",
      "Step 20/128, Loss: 0.6625328063964844\n",
      "Step 30/128, Loss: 0.04891571030020714\n",
      "Step 40/128, Loss: 0.3398627042770386\n",
      "Step 50/128, Loss: 0.4157848358154297\n",
      "Step 60/128, Loss: 0.06156798452138901\n",
      "Step 70/128, Loss: 0.06934899091720581\n",
      "Step 80/128, Loss: 0.0635581985116005\n",
      "Step 90/128, Loss: 0.08111036568880081\n",
      "Step 100/128, Loss: 0.31306222081184387\n",
      "Step 110/128, Loss: 0.08917460590600967\n",
      "Step 120/128, Loss: 0.06815195083618164\n",
      "Epoch 2/3\n",
      "Step 10/128, Loss: 0.06544636189937592\n",
      "Step 20/128, Loss: 0.06858750432729721\n",
      "Step 30/128, Loss: 0.05166354775428772\n",
      "Step 40/128, Loss: 0.35384711623191833\n",
      "Step 50/128, Loss: 0.5837855935096741\n",
      "Step 60/128, Loss: 0.05342096462845802\n",
      "Step 70/128, Loss: 0.08128581941127777\n",
      "Step 80/128, Loss: 0.03457849100232124\n",
      "Step 90/128, Loss: 0.16889844834804535\n",
      "Step 100/128, Loss: 0.025073276832699776\n",
      "Step 110/128, Loss: 0.8743771910667419\n",
      "Step 120/128, Loss: 0.13529574871063232\n",
      "Epoch 3/3\n",
      "Step 10/128, Loss: 0.49114662408828735\n",
      "Step 20/128, Loss: 0.023342227563261986\n",
      "Step 30/128, Loss: 0.09257609397172928\n",
      "Step 40/128, Loss: 0.11235552281141281\n",
      "Step 50/128, Loss: 0.05497165769338608\n",
      "Step 60/128, Loss: 0.657505989074707\n",
      "Step 70/128, Loss: 0.016979724168777466\n",
      "Step 80/128, Loss: 0.03210925683379173\n",
      "Step 90/128, Loss: 0.5574718713760376\n",
      "Step 100/128, Loss: 0.022604400292038918\n",
      "Step 110/128, Loss: 0.31643640995025635\n",
      "Step 120/128, Loss: 0.03034663014113903\n"
     ]
    }
   ],
   "source": [
    "num_epochs=3\n",
    "for epoch in range(num_epochs):\n",
    "    model_cls.train()\n",
    "    total_loss = 0\n",
    "    print(f\"Epoch {epoch+1}/{num_epochs}\")\n",
    "    for step, batch in enumerate(train_loader_cls):\n",
    "        input_ids, attention_mask, labels = batch\n",
    "        optimizer_cls.zero_grad()\n",
    "        outputs_cls = model_cls(input_ids, attention_mask=attention_mask, labels=labels)\n",
    "        loss_cls = outputs_cls.loss\n",
    "        loss_cls.backward()\n",
    "        optimizer_cls.step()\n",
    "        \n",
    "        total_loss += loss_cls.item()\n",
    "        \n",
    "        if step % 10 == 0 and step > 0:\n",
    "            print(f\"Step {step}/{len(train_loader_cls)}, Loss: {loss_cls.item()}\")"
   ]
  },
  {
   "cell_type": "code",
   "execution_count": 46,
   "metadata": {},
   "outputs": [],
   "source": [
    "# Evaluate the model\n",
    "model_cls.eval()\n",
    "predictions_cls = []\n",
    "true_labels_cls = []\n",
    "for batch in test_loader_cls:\n",
    "    input_ids, attention_mask, labels = batch\n",
    "    with torch.no_grad():\n",
    "        outputs_cls = model_cls(input_ids, attention_mask=attention_mask)\n",
    "    logits_cls = outputs_cls.logits\n",
    "    preds_cls = torch.argmax(logits_cls, dim=1).tolist()\n",
    "    predictions_cls.extend(preds_cls)\n",
    "    true_labels_cls.extend(labels.tolist())"
   ]
  },
  {
   "cell_type": "code",
   "execution_count": 47,
   "metadata": {},
   "outputs": [
    {
     "name": "stdout",
     "output_type": "stream",
     "text": [
      "Classification Accuracy: 0.984313725490196\n"
     ]
    }
   ],
   "source": [
    "# Calculate accuracy\n",
    "accuracy_cls = accuracy_score(true_labels_cls, predictions_cls)\n",
    "print(\"Classification Accuracy:\", accuracy_cls)"
   ]
  },
  {
   "cell_type": "code",
   "execution_count": 52,
   "metadata": {},
   "outputs": [],
   "source": [
    "# Compute similarity scores\n",
    "metadata_embeddings = []\n",
    "for index, row in Labeled_Metadata.iterrows():\n",
    "    text = row['query'] + ' '+ row['title']\n",
    "    tokenized_text = tokenizer_sim(text, return_tensors='pt', padding=True, truncation=True)\n",
    "    with torch.no_grad():\n",
    "        output_sim = model_sim(**tokenized_text)\n",
    "    embeddings = output_sim.last_hidden_state.mean(dim=1).squeeze().numpy()\n",
    "    metadata_embeddings.append(embeddings)"
   ]
  },
  {
   "cell_type": "code",
   "execution_count": 53,
   "metadata": {},
   "outputs": [
    {
     "name": "stdout",
     "output_type": "stream",
     "text": [
      "Electric Vehicles\n",
      "Predicted Class: 0\n"
     ]
    }
   ],
   "source": [
    "user_input = input(\"Enter your query: \")\n",
    "\n",
    "# Tokenize user input for classification\n",
    "user_input_tokens_cls = tokenizer_cls(user_input, padding=True, truncation=True, return_tensors='pt')\n",
    "with torch.no_grad():\n",
    "    output_cls = model_cls(**user_input_tokens_cls)\n",
    "predicted_class = torch.argmax(output_cls.logits).item()\n",
    "\n",
    "# Display predicted class\n",
    "print(user_input)\n",
    "print(\"Predicted Class:\", predicted_class)"
   ]
  }
 ],
 "metadata": {
  "kernelspec": {
   "display_name": "Python 3",
   "language": "python",
   "name": "python3"
  },
  "language_info": {
   "codemirror_mode": {
    "name": "ipython",
    "version": 3
   },
   "file_extension": ".py",
   "mimetype": "text/x-python",
   "name": "python",
   "nbconvert_exporter": "python",
   "pygments_lexer": "ipython3",
   "version": "3.10.11"
  }
 },
 "nbformat": 4,
 "nbformat_minor": 2
}
